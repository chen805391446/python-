{
  {
   "cell_type": "markdown",
   "metadata": {},
   "source": [
    "- 站长素材高清图片下载\n",
    "    - 反爬机制：图片懒加载，广泛应用在了一些图片的网站中。\n",
    "        - 只有当图片被显示在浏览器可视化范围之内才会将img的伪属性变成真正的属性。如果是requests发起的请求，requests请求是没有可视化范围，因此我们一定要解析的是img伪属性的属性值（图片地址）\n",
    "- 学过的反爬机制：\n",
    "    - robots\n",
    "    - UA伪装\n",
    "    - 动态加载数据的捕获\n",
    "    - 图片懒加载"
   ]
  },
  {
   "cell_type": "markdown",
   "metadata": {},
   "source": [
    "### 今日内容\n",
    "- cookie\n",
    "- 代理机制\n",
    "- 验证码的识别\n",
    "- 模拟登录"
   ]
  },
  {
   "cell_type": "markdown",
   "metadata": {},
   "source": [
    "- cookie：\n",
    "    - 是存储在客户端的一组键值对。\n",
    "    - web中cookie的典型应用：\n",
    "        - 免密登录\n",
    "    - cookie和爬虫之间的关联\n",
    "        - sometimes，对一张页面进行请求的时候，如果请求的过程中不携带cookie的话，那么我们是无法请求到正确的页面数据。因此cookie是爬虫中一个非常典型且常见的反爬机制。"
   ]
  },
  {
   "cell_type": "markdown",
   "metadata": {},
   "source": [
    "- 需求：爬取雪球网中的咨询信息。https://xueqiu.com/\n",
    "- 分析：\n",
    "    - 1.判定爬取的咨询数据是否为动态加载的\n",
    "        - 相关的更多咨询数据是动态加载的，滚轮滑动到底部的时候会动态加载出更多咨询数据。\n",
    "    - 2.定位到ajax请求的数据包，提取出请求的url，响应数据为json形式的咨询数据"
   ]
  },
  {
   "cell_type": "code",
   "execution_count": 1,
   "metadata": {},
   "outputs": [],
   "source": [
    "import requests\n",
    "headers = {\n",
    "    'User-Agent':'Mozilla/5.0 (Macintosh; Intel Mac OS X 10_12_6) AppleWebKit/537.36 (KHTML, like Gecko) Chrome/80.0.3987.149 Safari/537.36'\n",
    "}"
   ]
  },
  {
   "cell_type": "code",
   "execution_count": 2,
   "metadata": {},
   "outputs": [
    {
     "data": {
      "text/plain": [
       "{'error_description': '遇到错误，请刷新页面或者重新登录帐号后再试',\n",
       " 'error_uri': '/v4/statuses/public_timeline_by_category.json',\n",
       " 'error_data': None,\n",
       " 'error_code': '400016'}"
      ]
     },
     "execution_count": 2,
     "metadata": {},
     "output_type": "execute_result"
    }
   ],
   "source": [
    "url = 'https://xueqiu.com/v4/statuses/public_timeline_by_category.json?since_id=-1&max_id=20369434&count=15&category=-1'\n",
    "page_text = requests.get(url=url,headers=headers).json()\n",
    "page_text"
   ]
  },
  {
   "cell_type": "markdown",
   "metadata": {},
   "source": [
    "- 问题：我们没有请求到我们想要的数据\n",
    "- 原因：我们没有严格意义上模拟浏览器发请求。\n",
    "    - 处理：可以将浏览器发请求携带的请求头，全部粘贴在headers字典中，将headers作用到requests的请求操作中即可。"
   ]
  },
  {
   "cell_type": "markdown",
   "metadata": {},
   "source": [
    "- cookie的处理方式\n",
    "    - 方式1：手动处理\n",
    "        - 将抓包工具中的cookie粘贴在headers中\n",
    "        - 弊端：cookie如果过了有效时长则该方式失效。\n",
    "    - 方式2：自动处理\n",
    "        - 基于Session对象实现自动处理。\n",
    "        - 如何获取一个session对象：requests.Session()返回一个session对象。\n",
    "        - session对象的作用：\n",
    "            - 该对象可以向requests一样调用get和post发起指定的请求。只不过如果在使用session发请求的过程中如果产生了cookie，则cookie会被自动存储到该session对象中，那么就意味着下次再次使用session对象发起请求，则该次请求就是携带cookie进行的请求发送。\n",
    "        - 在爬虫中使用session的时候，session对象至少会被使用几次？\n",
    "            - 两次。第一次使用session是为了将cookie捕获且存储到session对象中。下次的时候就是携带cookie进行的请求发送。"
   ]
  },
  {
   "cell_type": "code",
   "execution_count": 3,
   "metadata": {
    "collapsed": true
   },
   "outputs": [
    {
     "data": {
      "text/plain": [
       "{'list': [{'id': 20369433,\n",
       "   'category': 0,\n",
       "   'data': '{\"id\":144858286,\"title\":\"美股暴跌里的国运\",\"description\":\"3月13日美东时间下午三点半，特朗普宣布美国进入国家紧急状态，承诺联邦政府将全力以赴抗击疫情。美股应声上涨，三大股指在收盘的半个小时内强势拉，收盘纷纷报涨逾9%，缓解了市场此前4个交易日两度熔断的恐慌情绪。 特朗普总统争分夺秒的再度天秀了一把，他将行情走势截图并签上了大名，送往美国...\",\"target\":\"/4573323809/144858286\",\"reply_count\":97,\"retweet_count\":86,\"topic_title\":\"美股熔断暴跌下的美国国运\",\"topic_desc\":\"3月13日美东时间下午三点半，特朗普宣布美国进入国家紧急状...\",\"topic_symbol\":null,\"topic_pic\":null,\"topic_pic_hd\":null,\"pic_type\":0,\"first_pic\":null,\"pic_size\":{\"width\":2,\"height\":1},\"pic\":\"\",\"pic_sizes\":[],\"cover_pic\":null,\"user\":{\"id\":4573323809,\"profile\":\"/4573323809\",\"description\":\"\",\"following\":false,\"screen_name\":\"楚团长瞎扯淡\",\"profile_image_url\":\"community/20166/1467794754492-1467794755056.jpg,community/20166/1467794754492-1467794755056.jpg!180x180.png,community/20166/1467794754492-1467794755056.jpg!50x50.png,community/20166/1467794754492-1467794755056.jpg!30x30.png\",\"photo_domain\":\"http://xavatar.imedao.com/\",\"verified_infos\":[{\"verified_type\":\"6\",\"verified_desc\":\"雪球沪深实盘认证用户\"},{\"verified_type\":\"5\",\"verified_desc\":\"用户已完成实名身份认证\"}],\"followers_count\":31358},\"promotion\":false,\"answers\":null,\"view_count\":769882,\"created_at\":1584941928000,\"link_stock_desc\":null,\"link_stock_symbol\":null,\"strategy_id\":0,\"feedback\":null,\"tag\":null,\"card\":null,\"quote_cards\":null,\"source\":\"雪球\",\"retweeted_status\":null,\"like_count\":244,\"liked\":false,\"mode\":0,\"symbol_id\":null,\"score\":null,\"reply_user_images\":null,\"reply_user_count\":0,\"offer\":null,\"user_id\":4573323809,\"longTextForIOS\":false}',\n",
       "   'column': '美股',\n",
       "   'original_status': None},\n",
       "  {'id': 20369432,\n",
       "   'category': 0,\n",
       "   'data': '{\"id\":144861603,\"title\":\"\",\"description\":\"惶恐抛售不是错，股市就乐意每时每刻给你交易选择权，但理性的人一定都知道24.5的万科比前些天32的万科更有价值，30的招商银行也比36的招商银行更值得买入，而不是卖出以寻求22甚至20以下的机会，有钱就加仓没钱就死扛，死扛是比做差价更简单更安全的操作模式，能想通这个简单道理的人，比一直寻...\",\"target\":\"/6657231611/144861603\",\"reply_count\":135,\"retweet_count\":9,\"topic_title\":\"\",\"topic_desc\":\"惶恐抛售不是错，股市就乐意每时每刻给你交易选择权，但理...\",\"topic_symbol\":null,\"topic_pic\":null,\"topic_pic_hd\":null,\"pic_type\":0,\"first_pic\":null,\"pic_size\":{\"width\":2,\"height\":1},\"pic\":\"\",\"pic_sizes\":[],\"cover_pic\":null,\"user\":{\"id\":6657231611,\"profile\":\"/6657231611\",\"description\":\"炒股是一门手艺\",\"following\":false,\"screen_name\":\"西城野木\",\"profile_image_url\":\"community/20167/1471530356882-1471530400213.jpg,community/20167/1471530356882-1471530400213.jpg!180x180.png,community/20167/1471530356882-1471530400213.jpg!50x50.png,community/20167/1471530356882-1471530400213.jpg!30x30.png\",\"photo_domain\":\"http://xavatar.imedao.com/\",\"verified_infos\":[],\"followers_count\":14033},\"promotion\":false,\"answers\":null,\"view_count\":731309,\"created_at\":1584943574000,\"link_stock_desc\":null,\"link_stock_symbol\":null,\"strategy_id\":0,\"feedback\":null,\"tag\":null,\"card\":null,\"quote_cards\":null,\"source\":\"雪球\",\"retweeted_status\":null,\"like_count\":92,\"liked\":false,\"mode\":0,\"symbol_id\":null,\"score\":null,\"reply_user_images\":null,\"reply_user_count\":0,\"offer\":null,\"user_id\":6657231611,\"longTextForIOS\":false}',\n",
       "   'column': '沪深',\n",
       "   'original_status': None},\n",
       "  {'id': 20369430,\n",
       "   'category': 0,\n",
       "   'data': '{\"id\":144851705,\"title\":\"\",\"description\":\"田行长今天最重要的一句话：招商银行在未来5年内好像也不需要股权融资。 我的理解就是，招商银行5年内股价都别想爆涨了，正好可以每年分红慢慢买了。<img src=\\\\\"https://assets.imedao.com/ugc/images/face/emoji_35_like.png\\\\\" title=\\\\\"[很赞]\\\\\" alt=\\\\\"[很赞]\\\\\" height=\\\\\"24\\\\\" />看来招行管理层是希望招商银行的股价走出一个十二年大慢牛大长牛了！ 炒i短线的赶紧下车吧，别想期望股价短期大涨了，赶紧换到平安银行去，...\",\"target\":\"/8164125924/144851705\",\"reply_count\":23,\"retweet_count\":5,\"topic_title\":\"\",\"topic_desc\":\"田行长今天最重要的一句话：招商银行在未来5年内好像也不需...\",\"topic_symbol\":null,\"topic_pic\":null,\"topic_pic_hd\":null,\"pic_type\":0,\"first_pic\":null,\"pic_size\":{\"width\":2,\"height\":1},\"pic\":\"\",\"pic_sizes\":[],\"cover_pic\":null,\"user\":{\"id\":8164125924,\"profile\":\"/8164125924\",\"description\":\"\",\"following\":false,\"screen_name\":\"二郎基金\",\"profile_image_url\":\"community/20194/1557986849771-1557986850102.jpg,community/20194/1557986849771-1557986850102.jpg!180x180.png,community/20194/1557986849771-1557986850102.jpg!50x50.png,community/20194/1557986849771-1557986850102.jpg!30x30.png\",\"photo_domain\":\"http://xavatar.imedao.com/\",\"verified_infos\":[],\"followers_count\":19014},\"promotion\":false,\"answers\":null,\"view_count\":780365,\"created_at\":1584937404000,\"link_stock_desc\":null,\"link_stock_symbol\":null,\"strategy_id\":0,\"feedback\":null,\"tag\":null,\"card\":null,\"quote_cards\":null,\"source\":\"雪球\",\"retweeted_status\":null,\"like_count\":41,\"liked\":false,\"mode\":0,\"symbol_id\":null,\"score\":null,\"reply_user_images\":null,\"reply_user_count\":0,\"offer\":null,\"user_id\":8164125924,\"longTextForIOS\":false}',\n",
       "   'column': '沪深',\n",
       "   'original_status': None},\n",
       "  {'id': 20369429,\n",
       "   'category': 0,\n",
       "   'data': '{\"id\":144746170,\"title\":\"买了地产债别伤心，有人比你们还要惨\",\"description\":\"这个市场，我知道说啥都不如说点不开心的，让大家平复一下心情，特别是地产债的投资者们 。 一个票面3.5%的优先票据，价格从100跌到只剩五十多！ 股价YTD跌了快70%，真正的股债双杀！ 故事是这样的。港股市场中，卖箱子的新秀丽（1910）<a href=\\\\\"http://xueqiu.com/S/01910\\\\\" target=\\\\\"_blank\\\\\">$新秀丽(01910)$</a>是一个赫赫有名的消费品公司，profile就像一...\",\"target\":\"/3779252996/144746170\",\"reply_count\":31,\"retweet_count\":26,\"topic_title\":\"买了地产债别伤心，有人比你们还要惨\",\"topic_desc\":\"这个市场，我知道说啥都不如说点不开心的，让大家平复一下...\",\"topic_symbol\":null,\"topic_pic\":null,\"topic_pic_hd\":null,\"pic_type\":0,\"first_pic\":\"https://xqimg.imedao.com/170fb306b74160353feaf93f.jpg!186x186.jpg\",\"pic_size\":{\"width\":2,\"height\":1},\"pic\":\"https://xqimg.imedao.com/170fb306b74160353feaf93f.jpg!345x210.webp,https://xqimg.imedao.com/170fb306c3e15ea93fc9ff07.jpg!345x210.webp,https://xqimg.imedao.com/170fb306bed15f393fe146b9.jpg!345x210.webp,https://xqimg.imedao.com/170fb306c32160363fe9d8df.jpg!345x210.webp,https://xqimg.imedao.com/170fb306e062c2243feaa57f.jpg!345x210.webp,https://xqimg.imedao.com/170fb306ffb15eaa3fe59f49.jpg!345x210.webp,https://xqimg.imedao.com/170fb3070e0196473fdd66b8.jpg!345x210.webp,https://xqimg.imedao.com/170fb307053196463fcdf97f.jpg!345x210.webp,https://xqimg.imedao.com/170fb307010160143fe308c8.jpg!345x210.webp,https://xqimg.imedao.com/170fb30729f196483fe14c8c.jpg!345x210.webp,https://xqimg.imedao.com/170fb307290158ec3fea8d40.jpg!345x210.webp,https://xqimg.imedao.com/170fb30736c2c35d3fc590db.jpg!345x210.webp,https://xqimg.imedao.com/170fb3074312c3603fd4c8b9.jpg!345x210.webp\",\"pic_sizes\":[{\"width\":1049,\"height\":1089},{\"width\":823,\"height\":430},{\"width\":500,\"height\":321},{\"width\":300,\"height\":168},{\"width\":929,\"height\":380},{\"width\":1080,\"height\":361},{\"width\":220,\"height\":139},{\"width\":1080,\"height\":536},{\"width\":920,\"height\":172},{\"width\":630,\"height\":298},{\"width\":1021,\"height\":446},{\"width\":896,\"height\":445},{\"width\":1080,\"height\":608},{\"width\":924,\"height\":498},{\"width\":1080,\"height\":173},{\"width\":500,\"height\":500},{\"width\":1080,\"height\":310},{\"width\":1036,\"height\":259},{\"width\":1080,\"height\":440},{\"width\":350,\"height\":196},{\"width\":640,\"height\":360}],\"cover_pic\":null,\"user\":{\"id\":3779252996,\"profile\":\"/3779252996\",\"description\":\"\",\"following\":false,\"screen_name\":\"-蜗牛妹-\",\"profile_image_url\":\"community/20172/1490334814120-1490334818702.jpg,community/20172/1490334814120-1490334818702.jpg!180x180.png,community/20172/1490334814120-1490334818702.jpg!50x50.png,community/20172/1490334814120-1490334818702.jpg!30x30.png\",\"photo_domain\":\"http://xavatar.imedao.com/\",\"verified_infos\":[{\"verified_type\":\"5\",\"verified_desc\":\"用户已完成实名身份认证\"}],\"followers_count\":24701},\"promotion\":false,\"answers\":null,\"view_count\":678883,\"created_at\":1584762414000,\"link_stock_desc\":null,\"link_stock_symbol\":null,\"strategy_id\":0,\"feedback\":null,\"tag\":null,\"card\":null,\"quote_cards\":null,\"source\":\"雪球\",\"retweeted_status\":null,\"like_count\":40,\"liked\":false,\"mode\":0,\"symbol_id\":null,\"score\":null,\"reply_user_images\":null,\"reply_user_count\":0,\"offer\":null,\"user_id\":3779252996,\"longTextForIOS\":false}',\n",
       "   'column': '沪深',\n",
       "   'original_status': None},\n",
       "  {'id': 20369428,\n",
       "   'category': 0,\n",
       "   'data': '{\"id\":144855791,\"title\":\"招行2019年报解读文章汇总~\",\"description\":\"<a href=\\\\\"http://xueqiu.com/k?q=%23%E6%8B%9B%E5%95%86%E9%93%B6%E8%A1%8C2019%E5%B9%B4%E6%8A%A5%E8%A7%A3%E8%AF%BB%23\\\\\" target=\\\\\"_blank\\\\\">#招商银行2019年报解读#</a> 哈喽各位球友们，招行于上周五晚间发布财报，金融妹看有的球友当晚就发布了全面的解读，还有的球友周六一大早就起床写文章<img src=\\\\\"https://assets.imedao.com/ugc/images/face/emoji_23_blood.png\\\\\" title=\\\\\"[吐血]\\\\\" alt=\\\\\"[吐血]\\\\\" height=\\\\\"24\\\\\" /> 金融妹只有在抄作业的时候才会比较积极<img src=\\\\\"https://assets.imedao.com/ugc/images/face/emoji_16_helpless.png\\\\\" title=\\\\\"[摊手]\\\\\" alt=\\\\\"[摊手]\\\\\" height=\\\\\"24\\\\\" />请大家收下这波汇总，也欢迎大家多多交流~~ <a href=\\\\\"http://xueqiu.com/n/只需要五次\\\\\" target=\\\\\"_blank\\\\\">@只需要五次</a> <a href=\\\\\"https://xueqiu.com/2301623438/144772049\\\\\" title=\\\\\"https://xueqiu.com/2301623438/144772049\\\\\" target=\\\\\"_blank\\\\\">数说《招商银行2019年报》</a>\",\"target\":\"/9976484464/144855791\",\"reply_count\":5,\"retweet_count\":2,\"topic_title\":\"招行2019年报解读文章汇总~\",\"topic_desc\":\"<a href=\\\\\"http://xueqiu.com/k?q=%E6%8B%9B%E5%95%86%E9%93%B6%E8%A1%8C2019%E5%B9%B4%E6%8A%A5%E8%A7%A3%E8%AF%BB\\\\\"  target=\\\\\"_blank\\\\\">#招商银行2019年报解读#</a> 哈喽各位球友们，招行于上周五晚间...\",\"topic_symbol\":null,\"topic_pic\":null,\"topic_pic_hd\":null,\"pic_type\":0,\"first_pic\":\"https://xqimg.imedao.com/171056547b31844f3fc4003a.png!186x186.jpg\",\"pic_size\":{\"width\":2,\"height\":1},\"pic\":\"https://xqimg.imedao.com/171056547b31844f3fc4003a.png!345x210.webp\",\"pic_sizes\":[{\"width\":606,\"height\":403}],\"cover_pic\":null,\"user\":{\"id\":9976484464,\"profile\":\"/bjsnb\",\"description\":\"热爱学习的金融妹(✪ω✪)\",\"following\":false,\"screen_name\":\"大金融滚雪球\",\"profile_image_url\":\"community/201711/1513595964974-1513595965221.png,community/201711/1513595964974-1513595965221.png!180x180.png,community/201711/1513595964974-1513595965221.png!50x50.png,community/201711/1513595964974-1513595965221.png!30x30.png\",\"photo_domain\":\"http://xavatar.imedao.com/\",\"verified_infos\":[{\"verified_type\":\"7\",\"verified_desc\":\"雪球大金融板块官方账号\"}],\"followers_count\":1122720},\"promotion\":false,\"answers\":null,\"view_count\":805300,\"created_at\":1584940635000,\"link_stock_desc\":null,\"link_stock_symbol\":null,\"strategy_id\":0,\"feedback\":null,\"tag\":null,\"card\":null,\"quote_cards\":null,\"source\":\"雪球\",\"retweeted_status\":null,\"like_count\":5,\"liked\":false,\"mode\":0,\"symbol_id\":null,\"score\":null,\"reply_user_images\":null,\"reply_user_count\":0,\"offer\":null,\"user_id\":9976484464,\"longTextForIOS\":false}',\n",
       "   'column': '沪深',\n",
       "   'original_status': None},\n",
       "  {'id': 20369427,\n",
       "   'category': 0,\n",
       "   'data': '{\"id\":144855644,\"title\":\"\",\"description\":\"【闲聊】李大霄遭监管谈话，你怎么看李大霄老师的市场观点？他说的有道理吗？<img src=\\\\\"https://assets.imedao.com/ugc/images/face/emoji_32_onlook.png\\\\\" title=\\\\\"[围观]\\\\\" alt=\\\\\"[围观]\\\\\" height=\\\\\"24\\\\\" /><img src=\\\\\"https://assets.imedao.com/ugc/images/face/emoji_32_onlook.png\\\\\" title=\\\\\"[围观]\\\\\" alt=\\\\\"[围观]\\\\\" height=\\\\\"24\\\\\" />\",\"target\":\"/9315034509/144855644\",\"reply_count\":109,\"retweet_count\":56,\"topic_title\":\"\",\"topic_desc\":\"【闲聊】李大霄遭监管谈话，你怎么看李大霄老师的市场观点...\",\"topic_symbol\":null,\"topic_pic\":null,\"topic_pic_hd\":null,\"pic_type\":0,\"first_pic\":\"https://xqimg.imedao.com/17105d1224c185c43fd9714c.png!186x186.jpg\",\"pic_size\":{\"width\":2,\"height\":1},\"pic\":\"https://xqimg.imedao.com/17105d1224c185c43fd9714c.png!345x210.webp\",\"pic_sizes\":[{\"width\":1042,\"height\":479}],\"cover_pic\":null,\"user\":{\"id\":9315034509,\"profile\":\"/9315034509\",\"description\":\"如果你有什么百思不得其解的问题，欢迎发悬赏和向球友提问。如果你智慧超群，也欢迎来到问答广场多多回答问题展示你的才华~~~大家有雪球APP不懂的问题可以@小秘书；关于雪球交易不懂的问题可以@交易小助手\",\"following\":false,\"screen_name\":\"雪球问问\",\"profile_image_url\":\"community/201910/1572928508120-1572928520328.png,community/201910/1572928508120-1572928520328.png!180x180.png,community/201910/1572928508120-1572928520328.png!50x50.png,community/201910/1572928508120-1572928520328.png!30x30.png\",\"photo_domain\":\"http://xavatar.imedao.com/\",\"verified_infos\":[{\"verified_type\":\"7\",\"verified_desc\":\"雪球问答官方账号\"}],\"followers_count\":63264},\"promotion\":false,\"answers\":null,\"view_count\":558536,\"created_at\":1584940551000,\"link_stock_desc\":null,\"link_stock_symbol\":null,\"strategy_id\":0,\"feedback\":null,\"tag\":null,\"card\":null,\"quote_cards\":null,\"source\":\"雪球\",\"retweeted_status\":null,\"like_count\":22,\"liked\":false,\"mode\":0,\"symbol_id\":null,\"score\":null,\"reply_user_images\":null,\"reply_user_count\":0,\"offer\":{\"id\":53828,\"type\":\"MANUAL\",\"amount\":1888,\"state\":\"NORMAL\",\"count\":0,\"title\":\"\",\"balance\":998,\"refundAmount\":0,\"desc\":\"提问者将在悬赏结束前选出最佳答案并分配奖金，截止至03/28 13:15\",\"due_time\":1585372550319},\"user_id\":9315034509,\"longTextForIOS\":false}',\n",
       "   'column': '沪深',\n",
       "   'original_status': None},\n",
       "  {'id': 20369426,\n",
       "   'category': 0,\n",
       "   'data': '{\"id\":144851255,\"title\":\"一些判断\",\"description\":\"1、用电量是观察国内经济的先行指标，用电量稳经济才稳。国内3月中旬后用电量稳住了。 2、中国以外恐慌指数大概是中国的春节放假期期间级别。坏消息满天飞，当习惯面对灾难股市是先行指标，对应资本市场当下也许就是最坏的时刻。 3、中国的重组疫苗一期试验中，其他4个类型疫苗预计4月份进入临床...\",\"target\":\"/9742512811/144851255\",\"reply_count\":165,\"retweet_count\":63,\"topic_title\":\"一些判断\",\"topic_desc\":\"1、用电量是观察国内经济的先行指标，用电量稳经济才稳。国...\",\"topic_symbol\":null,\"topic_pic\":null,\"topic_pic_hd\":null,\"pic_type\":0,\"first_pic\":\"https://xqimg.imedao.com/171059b6550185353fef62f6.jpeg!186x186.jpg\",\"pic_size\":{\"width\":2,\"height\":1},\"pic\":\"https://xqimg.imedao.com/171059b6550185353fef62f6.jpeg!345x210.webp\",\"pic_sizes\":[{\"width\":1080,\"height\":580}],\"cover_pic\":null,\"user\":{\"id\":9742512811,\"profile\":\"/9742512811\",\"description\":\"守望、跨越。方向错了再努力也徒劳；追求模糊的正确，拒绝精确的错误。\",\"following\":false,\"screen_name\":\"丹书铁券\",\"profile_image_url\":\"community/20142/1394615418775-1394615433511.jpg,community/20142/1394615418775-1394615433511.jpg!180x180.png,community/20142/1394615418775-1394615433511.jpg!50x50.png,community/20142/1394615418775-1394615433511.jpg!30x30.png\",\"photo_domain\":\"http://xavatar.imedao.com/\",\"verified_infos\":[{\"verified_type\":\"1\",\"verified_desc\":\"雪球2018年度十大影响力用户 铁券一号私募基金经理\"},{\"verified_type\":\"5\",\"verified_desc\":\"用户已完成实名身份认证\"}],\"followers_count\":184107},\"promotion\":false,\"answers\":null,\"view_count\":845041,\"created_at\":1584937013000,\"link_stock_desc\":null,\"link_stock_symbol\":null,\"strategy_id\":0,\"feedback\":null,\"tag\":null,\"card\":null,\"quote_cards\":null,\"source\":\"Android\",\"retweeted_status\":null,\"like_count\":271,\"liked\":false,\"mode\":0,\"symbol_id\":null,\"score\":null,\"reply_user_images\":null,\"reply_user_count\":0,\"offer\":null,\"user_id\":9742512811,\"longTextForIOS\":false}',\n",
       "   'column': '沪深',\n",
       "   'original_status': None},\n",
       "  {'id': 20369425,\n",
       "   'category': 0,\n",
       "   'data': '{\"id\":144799579,\"title\":\"中泰资管叶展：应对混乱的最好办法是忠于常识\",\"description\":\"我们正置身于巨大的混乱之中。虽然国内的疫情已经得到了控制，但全世界却陷入动荡，从美国到欧洲，从股票到债券，从原油到房地产信托基金，到处是雪崩的轰隆声。 危机已经是现实而不是预言，而身处其中的人们难免惊恐万状。我一个向来乐观的朋友告诉我，他正在抛售资产回笼现金，为长期过冬做准备...\",\"target\":\"/4618738348/144799579\",\"reply_count\":22,\"retweet_count\":10,\"topic_title\":\"中泰资管叶展：应对混乱的最好办法是忠于常识\",\"topic_desc\":\"我们正置身于巨大的混乱之中。虽然国内的疫情已经得到了控...\",\"topic_symbol\":null,\"topic_pic\":null,\"topic_pic_hd\":null,\"pic_type\":0,\"first_pic\":\"https://xqimg.imedao.com/1710204959f173b83fca7b5e.jpeg!186x186.jpg\",\"pic_size\":{\"width\":2,\"height\":1},\"pic\":\"https://xqimg.imedao.com/171020497ae173b93fe325ce.jpeg!345x210.webp,https://xqimg.imedao.com/17102049b58172f03fe7fe34.jpeg!345x210.webp,https://xqimg.imedao.com/17102049d532d6f13fe26f12.jpeg!345x210.webp,https://xqimg.imedao.com/17102049fc2172f13fdef5eb.jpeg!345x210.webp,https://xqimg.imedao.com/1710204a2b31759e3fd8cf83.jpeg!345x210.webp\",\"pic_sizes\":[{\"width\":737,\"height\":69},{\"width\":1023,\"height\":338},{\"width\":1024,\"height\":576},{\"width\":1000,\"height\":563},{\"width\":1024,\"height\":702},{\"width\":567,\"height\":567}],\"cover_pic\":null,\"user\":{\"id\":4618738348,\"profile\":\"/qlzqzg\",\"description\":\"中泰证券（上海）资产管理有限公司雪球账号。\",\"following\":false,\"screen_name\":\"中泰资管\",\"profile_image_url\":\"community/20191/1550030377757-1550030382384.jpg,community/20191/1550030377757-1550030382384.jpg!180x180.png,community/20191/1550030377757-1550030382384.jpg!50x50.png,community/20191/1550030377757-1550030382384.jpg!30x30.png\",\"photo_domain\":\"http://xavatar.imedao.com/\",\"verified_infos\":[{\"verified_type\":\"4\",\"verified_desc\":\"中泰证券（上海）资产管理有限公司官方账号\"}],\"followers_count\":23966},\"promotion\":false,\"answers\":null,\"view_count\":603998,\"created_at\":1584876793000,\"link_stock_desc\":null,\"link_stock_symbol\":null,\"strategy_id\":0,\"feedback\":null,\"tag\":null,\"card\":null,\"quote_cards\":null,\"source\":\"雪球\",\"retweeted_status\":null,\"like_count\":18,\"liked\":false,\"mode\":0,\"symbol_id\":null,\"score\":null,\"reply_user_images\":null,\"reply_user_count\":0,\"offer\":null,\"user_id\":4618738348,\"longTextForIOS\":false}',\n",
       "   'column': '沪深',\n",
       "   'original_status': None},\n",
       "  {'id': 20369424,\n",
       "   'category': 0,\n",
       "   'data': '{\"id\":144853202,\"title\":\"\",\"description\":\"美国哪家酒店集团经营最为稳健？要讲讲理由才有赏金哦。\",\"target\":\"/1955602780/144853202\",\"reply_count\":153,\"retweet_count\":89,\"topic_title\":\"\",\"topic_desc\":\"美国哪家酒店集团经营最为稳健？要讲讲理由才有赏金哦。\",\"topic_symbol\":null,\"topic_pic\":null,\"topic_pic_hd\":null,\"pic_type\":0,\"first_pic\":null,\"pic_size\":{\"width\":2,\"height\":1},\"pic\":\"\",\"pic_sizes\":[],\"cover_pic\":null,\"user\":{\"id\":1955602780,\"profile\":\"/simon\",\"description\":\"一名拙劣的赌徒\\\\n主业：陪聊。副业：陪赌\",\"following\":false,\"screen_name\":\"不明真相的群众\",\"profile_image_url\":\"community/201011/1293612628607-20121221.png,community/201011/1293612628607-20121221.png!180x180.png,community/201011/1293612628607-20121221.png!50x50.png,community/201011/1293612628607-20121221.png!30x30.png\",\"photo_domain\":\"http://xavatar.imedao.com/\",\"verified_infos\":[{\"verified_type\":\"7\",\"verified_desc\":\"雪球创始人方三文\"},{\"verified_type\":\"5\",\"verified_desc\":\"用户已完成实名身份认证\"}],\"followers_count\":361037},\"promotion\":false,\"answers\":null,\"view_count\":721029,\"created_at\":1584938703000,\"link_stock_desc\":null,\"link_stock_symbol\":null,\"strategy_id\":0,\"feedback\":null,\"tag\":null,\"card\":null,\"quote_cards\":null,\"source\":\"雪球\",\"retweeted_status\":null,\"like_count\":47,\"liked\":false,\"mode\":0,\"symbol_id\":null,\"score\":null,\"reply_user_images\":null,\"reply_user_count\":0,\"offer\":{\"id\":53825,\"type\":\"MANUAL\",\"amount\":10000,\"state\":\"NORMAL\",\"count\":0,\"title\":\"\",\"balance\":1000,\"refundAmount\":0,\"desc\":\"提问者将在悬赏结束前选出最佳答案并分配奖金，截止至03/28 12:45\",\"due_time\":1585370702876},\"user_id\":1955602780,\"longTextForIOS\":false}',\n",
       "   'column': '美股',\n",
       "   'original_status': None},\n",
       "  {'id': 20369423,\n",
       "   'category': 0,\n",
       "   'data': '{\"id\":144850974,\"title\":\"新晋美女股民自述：我为何誓与股市白头偕老\",\"description\":\"虽是新晋股民，却犹如体验过牛熊交替的悲喜，经历过浴火重生的洗礼，感受着冰火两重天的心境，她对股票和人生都有着深刻的思考和感悟。欢迎新晋美女股民<a href=\\\\\"http://xueqiu.com/n/一米三水\\\\\" target=\\\\\"_blank\\\\\">@一米三水</a> 讲述她的投资故事。 ————————股市如何走进我的生活————————我叫来来，今年30岁，2015年开始关注股票，18年正式入市...\",\"target\":\"/1876906471/144850974\",\"reply_count\":163,\"retweet_count\":25,\"topic_title\":\"新晋美女股民自述：我为何誓与股市白头偕老\",\"topic_desc\":\"虽是新晋股民，却犹如体验过牛熊交替的悲喜，经历过浴火重...\",\"topic_symbol\":null,\"topic_pic\":null,\"topic_pic_hd\":null,\"pic_type\":0,\"first_pic\":\"\",\"pic_size\":{\"width\":2,\"height\":1},\"pic\":\"\",\"pic_sizes\":[{\"width\":400,\"height\":225}],\"cover_pic\":null,\"user\":{\"id\":1876906471,\"profile\":\"/xuema\",\"description\":\"发现投资高手，推荐投资牛人，达人秀和广大球友们投资路上常相伴！\",\"following\":false,\"screen_name\":\"雪球达人秀\",\"profile_image_url\":\"community/201910/1572942282084-1572942285115.png,community/201910/1572942282084-1572942285115.png!180x180.png,community/201910/1572942282084-1572942285115.png!50x50.png,community/201910/1572942282084-1572942285115.png!30x30.png\",\"photo_domain\":\"http://xavatar.imedao.com/\",\"verified_infos\":[{\"verified_type\":\"7\",\"verified_desc\":\"雪球达人秀官方账号\"}],\"followers_count\":5985061},\"promotion\":false,\"answers\":null,\"view_count\":713281,\"created_at\":1584936730000,\"link_stock_desc\":null,\"link_stock_symbol\":null,\"strategy_id\":0,\"feedback\":null,\"tag\":null,\"card\":null,\"quote_cards\":null,\"source\":\"雪球\",\"retweeted_status\":null,\"like_count\":77,\"liked\":false,\"mode\":0,\"symbol_id\":null,\"score\":null,\"reply_user_images\":null,\"reply_user_count\":0,\"offer\":null,\"user_id\":1876906471,\"longTextForIOS\":false}',\n",
       "   'column': '沪深',\n",
       "   'original_status': None},\n",
       "  {'id': 20369422,\n",
       "   'category': 0,\n",
       "   'data': '{\"id\":144845022,\"title\":\"【悬赏】恒大利润减半，股价暴跌15%，内房股你还看好谁？\",\"description\":\"<a href=\\\\\"http://xueqiu.com/k?q=%23%E6%81%92%E5%A4%A72019%E5%B9%B4%E5%87%80%E5%88%A9%E6%B6%A6%E5%87%8F%E5%8D%8A%23\\\\\" target=\\\\\"_blank\\\\\">#恒大2019年净利润减半#</a> 今日内房股集体大跌，中国恒大跌15%，碧桂园跌7%，万科企业跌6%，融创跌4%。 中国恒大昨晚发布业绩预告，2019年核心业务净利润及净利润有所下降，其中核心净利润预期约为人民币408亿元，较去年下降约48%；净利润预期约为人民币335亿元，较去年下降约50%。利润下降主要是由...\",\"target\":\"/8152922548/144845022\",\"reply_count\":53,\"retweet_count\":37,\"topic_title\":\"【悬赏】恒大利润减半，股价暴跌15%，内房股你还看好谁？\",\"topic_desc\":\"<a href=\\\\\"http://xueqiu.com/k?q=%E6%81%92%E5%A4%A72019%E5%B9%B4%E5%87%80%E5%88%A9%E6%B6%A6%E5%87%8F%E5%8D%8A\\\\\"  target=\\\\\"_blank\\\\\">#恒大2019年净利润减半#</a> 今日内房股集体大跌，中国恒大跌15...\",\"topic_symbol\":null,\"topic_pic\":null,\"topic_pic_hd\":null,\"pic_type\":0,\"first_pic\":null,\"pic_size\":{\"width\":2,\"height\":1},\"pic\":\"\",\"pic_sizes\":[],\"cover_pic\":null,\"user\":{\"id\":8152922548,\"profile\":\"/8152922548\",\"description\":\"好内容请@今日话题，我就是今日话题，专注来钱信息！\",\"following\":false,\"screen_name\":\"今日话题\",\"profile_image_url\":\"community/201910/1572938216163-1572938218854.png,community/201910/1572938216163-1572938218854.png!180x180.png,community/201910/1572938216163-1572938218854.png!50x50.png,community/201910/1572938216163-1572938218854.png!30x30.png\",\"photo_domain\":\"http://xavatar.imedao.com/\",\"verified_infos\":[{\"verified_type\":\"7\",\"verified_desc\":\"今日话题官方帐号\"}],\"followers_count\":17371316},\"promotion\":false,\"answers\":null,\"view_count\":824331,\"created_at\":1584933301000,\"link_stock_desc\":null,\"link_stock_symbol\":null,\"strategy_id\":0,\"feedback\":null,\"tag\":null,\"card\":null,\"quote_cards\":null,\"source\":\"雪球\",\"retweeted_status\":null,\"like_count\":24,\"liked\":false,\"mode\":0,\"symbol_id\":null,\"score\":null,\"reply_user_images\":null,\"reply_user_count\":0,\"offer\":{\"id\":53814,\"type\":\"MANUAL\",\"amount\":1880,\"state\":\"NORMAL\",\"count\":0,\"title\":\"\",\"balance\":1439,\"refundAmount\":0,\"desc\":\"提问者将在悬赏结束前选出最佳答案并分配奖金，截止至03/28 11:15\",\"due_time\":1585365300830},\"user_id\":8152922548,\"longTextForIOS\":false}',\n",
       "   'column': '港股',\n",
       "   'original_status': None},\n",
       "  {'id': 20369421,\n",
       "   'category': 0,\n",
       "   'data': '{\"id\":144844667,\"title\":\"【悬赏】上海机场大跌超7%，股价创一年新低，值不值得低位买入？\",\"description\":\"上海机场股价年初至今跌幅已达26%，且今日盘中一度触及58元，创一年新低；截至目前，上海机场滚动市盈率22倍，股价报58.3元，市值达1125亿元。 众所周知，上海机场预期受疫情影响较为严重，那么你认为其在疫情结束后业绩能否迅速恢复？当前的上海机场股票值不值得买？\",\"target\":\"/8152922548/144844667\",\"reply_count\":226,\"retweet_count\":107,\"topic_title\":\"【悬赏】上海机场大跌超7%，股价创一年新低，值不值得低位买入？\",\"topic_desc\":\"上海机场股价年初至今跌幅已达26%，且今日盘中一度触及58元...\",\"topic_symbol\":null,\"topic_pic\":null,\"topic_pic_hd\":null,\"pic_type\":0,\"first_pic\":null,\"pic_size\":{\"width\":2,\"height\":1},\"pic\":\"\",\"pic_sizes\":[],\"cover_pic\":null,\"user\":{\"id\":8152922548,\"profile\":\"/8152922548\",\"description\":\"好内容请@今日话题，我就是今日话题，专注来钱信息！\",\"following\":false,\"screen_name\":\"今日话题\",\"profile_image_url\":\"community/201910/1572938216163-1572938218854.png,community/201910/1572938216163-1572938218854.png!180x180.png,community/201910/1572938216163-1572938218854.png!50x50.png,community/201910/1572938216163-1572938218854.png!30x30.png\",\"photo_domain\":\"http://xavatar.imedao.com/\",\"verified_infos\":[{\"verified_type\":\"7\",\"verified_desc\":\"今日话题官方帐号\"}],\"followers_count\":17371316},\"promotion\":false,\"answers\":null,\"view_count\":938980,\"created_at\":1584933152000,\"link_stock_desc\":null,\"link_stock_symbol\":null,\"strategy_id\":0,\"feedback\":null,\"tag\":null,\"card\":null,\"quote_cards\":null,\"source\":\"雪球\",\"retweeted_status\":null,\"like_count\":28,\"liked\":false,\"mode\":0,\"symbol_id\":null,\"score\":null,\"reply_user_images\":null,\"reply_user_count\":0,\"offer\":{\"id\":53813,\"type\":\"MANUAL\",\"amount\":1888,\"state\":\"NORMAL\",\"count\":0,\"title\":\"\",\"balance\":98,\"refundAmount\":0,\"desc\":\"提问者将在悬赏结束前选出最佳答案并分配奖金，截止至03/28 11:12\",\"due_time\":1585365151591},\"user_id\":8152922548,\"longTextForIOS\":false}',\n",
       "   'column': '沪深',\n",
       "   'original_status': None},\n",
       "  {'id': 20369420,\n",
       "   'category': 0,\n",
       "   'data': '{\"id\":144845147,\"title\":\"NO.35 龙净转债-3月24日-积极申购\",\"description\":\"NO.35 龙净转债（733388）-2020年3月24日-积极申购 一、风险提示 本文仅为技术数据分析和参考，不作为投资建议。预测出现错误在所难免，据此操作，风险自负。 二、结论 1. 预计网上中0.33签；无网下； 2. 目前预测价格为114—116元； 3. 抢权配售安全垫预测值：0.28元（2.80%）； 4. “一手党”应...\",\"target\":\"/1314783718/144845147\",\"reply_count\":46,\"retweet_count\":11,\"topic_title\":\"NO.35 龙净转债-3月24日-积极申购\",\"topic_desc\":\"NO.35 龙净转债（733388）-2020年3月24日-积极申购 一、风...\",\"topic_symbol\":null,\"topic_pic\":null,\"topic_pic_hd\":null,\"pic_type\":0,\"first_pic\":\"https://xqimg.imedao.com/171012a82a6169e73fd7b6a3.png!186x186.jpg\",\"pic_size\":{\"width\":2,\"height\":1},\"pic\":\"https://xqimg.imedao.com/171012a82a6169e73fd7b6a3.png!345x210.webp\",\"pic_sizes\":[{\"width\":729,\"height\":392}],\"cover_pic\":null,\"user\":{\"id\":1314783718,\"profile\":\"/1314783718\",\"description\":\"最好的投资过程，就是最好的投资结果。\",\"following\":false,\"screen_name\":\"饕餮海\",\"profile_image_url\":\"community/20143/1397466635016-1397466642678.jpg,community/20143/1397466635016-1397466642678.jpg!180x180.png,community/20143/1397466635016-1397466642678.jpg!50x50.png,community/20143/1397466635016-1397466642678.jpg!30x30.png\",\"photo_domain\":\"http://xavatar.imedao.com/\",\"verified_infos\":[{\"verified_type\":\"1\",\"verified_desc\":\"雪球2019年度十大影响力用户\"},{\"verified_type\":\"3\",\"verified_desc\":\"低风险套利研究达人\"},{\"verified_type\":\"5\",\"verified_desc\":\"用户已完成实名身份认证\"}],\"followers_count\":148587},\"promotion\":false,\"answers\":null,\"view_count\":865187,\"created_at\":1584933352000,\"link_stock_desc\":null,\"link_stock_symbol\":null,\"strategy_id\":0,\"feedback\":null,\"tag\":null,\"card\":null,\"quote_cards\":null,\"source\":\"雪球\",\"retweeted_status\":null,\"like_count\":146,\"liked\":false,\"mode\":0,\"symbol_id\":null,\"score\":null,\"reply_user_images\":null,\"reply_user_count\":0,\"offer\":null,\"user_id\":1314783718,\"longTextForIOS\":false}',\n",
       "   'column': '沪深',\n",
       "   'original_status': None},\n",
       "  {'id': 20369419,\n",
       "   'category': 0,\n",
       "   'data': '{\"id\":144805102,\"title\":\"见证｜独立投资人高立群：等待好公司出现好价格，然后扣动扳机！\",\"description\":\"从投资的角度来说，股灾过后通常是买入优质的好公司的良机，以片仔癀为例，历史上最好的买点是2008年金融危机过后和2015年股灾过后。 从一个股市小白到因投资贵州茅台改变命运，都是得益于我对价值投资的实践。作为一个普通股民，我本人并没有在股灾中受过什么伤害，这次亦然，现在的我正手握资金...\",\"target\":\"/2994748381/144805102\",\"reply_count\":11,\"retweet_count\":8,\"topic_title\":\"见证｜独立投资人高立群：等待好公司出现好价格，然后扣动扳机！\",\"topic_desc\":\"从投资的角度来说，股灾过后通常是买入优质的好公司的良机...\",\"topic_symbol\":null,\"topic_pic\":null,\"topic_pic_hd\":null,\"pic_type\":0,\"first_pic\":null,\"pic_size\":{\"width\":2,\"height\":1},\"pic\":\"\",\"pic_sizes\":[],\"cover_pic\":null,\"user\":{\"id\":2994748381,\"profile\":\"/2994748381\",\"description\":\"中国证监会指定披露上市公司信息刊物，定位职业投资人之选，总部位于北京，旗下拥有杂志、电子出版物、教育培训和互联网服务等业务。欢迎关注微信公众号【证券市场红周刊】。\",\"following\":false,\"screen_name\":\"证券市场红周刊\",\"profile_image_url\":\"community/20133/1364978745677.png,community/20133/1364978745677.png!180x180.png,community/20133/1364978745677.png!50x50.png,community/20133/1364978745677.png!30x30.png\",\"photo_domain\":\"http://xavatar.imedao.com/\",\"verified_infos\":[],\"followers_count\":95265},\"promotion\":false,\"answers\":null,\"view_count\":793012,\"created_at\":1584883932000,\"link_stock_desc\":null,\"link_stock_symbol\":null,\"strategy_id\":0,\"feedback\":null,\"tag\":null,\"card\":null,\"quote_cards\":null,\"source\":\"雪球\",\"retweeted_status\":null,\"like_count\":17,\"liked\":false,\"mode\":0,\"symbol_id\":null,\"score\":null,\"reply_user_images\":null,\"reply_user_count\":0,\"offer\":null,\"user_id\":2994748381,\"longTextForIOS\":false}',\n",
       "   'column': '沪深',\n",
       "   'original_status': None},\n",
       "  {'id': 20369418,\n",
       "   'category': 0,\n",
       "   'data': '{\"id\":144805816,\"title\":\"见证｜否极泰基金总经理董宝珍：A股暴跌是在创造战略低点\",\"description\":\"疫情最终会消失的，而且消灭的时间是以月来计算的，无论中国还是全球都可能在几个月以内彻底控制住疫情。所以现在发生的大幅度波动，尤其对A股来说，这是在创造一个战略低点。 我觉得，我们这一代投资人是幸运的，我们有幸和巴菲特一起见证了连他都没见过的美股大崩溃。 过去这一个多月，全球主要...\",\"target\":\"/2994748381/144805816\",\"reply_count\":29,\"retweet_count\":16,\"topic_title\":\"见证｜否极泰基金总经理董宝珍：A股暴跌是在创造战略低点\",\"topic_desc\":\"疫情最终会消失的，而且消灭的时间是以月来计算的，无论中...\",\"topic_symbol\":null,\"topic_pic\":null,\"topic_pic_hd\":null,\"pic_type\":0,\"first_pic\":null,\"pic_size\":{\"width\":2,\"height\":1},\"pic\":\"\",\"pic_sizes\":[],\"cover_pic\":null,\"user\":{\"id\":2994748381,\"profile\":\"/2994748381\",\"description\":\"中国证监会指定披露上市公司信息刊物，定位职业投资人之选，总部位于北京，旗下拥有杂志、电子出版物、教育培训和互联网服务等业务。欢迎关注微信公众号【证券市场红周刊】。\",\"following\":false,\"screen_name\":\"证券市场红周刊\",\"profile_image_url\":\"community/20133/1364978745677.png,community/20133/1364978745677.png!180x180.png,community/20133/1364978745677.png!50x50.png,community/20133/1364978745677.png!30x30.png\",\"photo_domain\":\"http://xavatar.imedao.com/\",\"verified_infos\":[],\"followers_count\":95265},\"promotion\":false,\"answers\":null,\"view_count\":673921,\"created_at\":1584884730000,\"link_stock_desc\":null,\"link_stock_symbol\":null,\"strategy_id\":0,\"feedback\":null,\"tag\":null,\"card\":null,\"quote_cards\":null,\"source\":\"雪球\",\"retweeted_status\":null,\"like_count\":31,\"liked\":false,\"mode\":0,\"symbol_id\":null,\"score\":null,\"reply_user_images\":null,\"reply_user_count\":0,\"offer\":null,\"user_id\":2994748381,\"longTextForIOS\":false}',\n",
       "   'column': '沪深',\n",
       "   'original_status': None}],\n",
       " 'addition': [],\n",
       " 'tip': None,\n",
       " 'next_max_id': 20369418,\n",
       " 'next_id': 20369417}"
      ]
     },
     "execution_count": 3,
     "metadata": {},
     "output_type": "execute_result"
    }
   ],
   "source": [
    "session = requests.Session() #创建好了sesion对象\n",
    "#第一次使用session捕获且存储cookie，猜测对雪球网的首页发起的请求可能会产生cookie\n",
    "main_url = 'https://xueqiu.com/'\n",
    "session.get(main_url,headers=headers)#捕获且存储cookie\n",
    "\n",
    "url = 'https://xueqiu.com/v4/statuses/public_timeline_by_category.json?since_id=-1&max_id=20369434&count=15&category=-1'\n",
    "page_text = session.get(url=url,headers=headers).json() #携带cookie发起的请求\n",
    "page_text"
   ]
  },
  {
   "cell_type": "markdown",
   "metadata": {},
   "source": [
    "- 代理操作\n",
    "    - 在爬虫中，所谓的代理指的是什么？\n",
    "        - 就是代理服务器\n",
    "    - 代理服务器的作用是什么？\n",
    "        - 就是用来转发请求和响应。\n",
    "    - 在爬虫中为什么需要使用代理服务器？\n",
    "        - 如果我们的爬虫在短时间内对服务器发起了高频的请求，那么服务器会检测到这样的一个异常的行为请求，就会将该请求对应设备的ip禁掉，就以为这client设备无法对服务器端再次进行请求发送。（ip被禁掉了）\n",
    "        - 如果ip被禁，我们就可以使用代理服务器进行请求转发，破解ip被禁的反爬机制。因为使用代理后，服务器端接受到的请求对应的ip地址就是代理服务器而不是我们真正的客户端的。\n",
    "    - 代理服务器分为不同的匿名度：\n",
    "        - 透明代理：如果使用了该形式的代理，服务器端知道你使用了代理机制也知道你的真实ip。\n",
    "        - 匿名代理：知道你使用代理，但是不知道你的真实ip\n",
    "        - 高匿代理：不知道你使用了代理也不知道你的真实ip\n",
    "    - 代理的类型\n",
    "        - https：代理只能转发https协议的请求\n",
    "        - http：转发http的请求\n",
    "    - 代理服务器：\n",
    "        - 快代理\n",
    "        - 西祠代理\n",
    "        - goubanjia\n",
    "        - 代理精灵（推荐）：http://http.zhiliandaili.cn/)"
   ]
  },
  {
   "cell_type": "markdown",
   "metadata": {},
   "source": [
    "- 封装一个代理池"
   ]
  },
  {
   "cell_type": "code",
   "execution_count": 4,
   "metadata": {},
   "outputs": [],
   "source": [
    "from lxml import etree"
   ]
  },
  {
   "cell_type": "code",
   "execution_count": 7,
   "metadata": {},
   "outputs": [
    {
     "data": {
      "text/plain": [
       "[{'http': '58.243.28.218:33503'},\n",
       " {'http': '114.106.151.234:10566'},\n",
       " {'http': '114.252.50.79:11484'},\n",
       " {'http': '106.7.4.131:28803'}]"
      ]
     },
     "execution_count": 7,
     "metadata": {},
     "output_type": "execute_result"
    }
   ],
   "source": [
    "url = 'http://t.11jsq.com/index.php/api/entry?method=proxyServer.generate_api_url&packid=1&fa=0&fetch_key=&groupid=0&qty=4&time=1&pro=&city=&port=1&format=html&ss=5&css=&dt=1&specialTxt=3&specialJson=&usertype=2'\n",
    "page_text = requests.get(url,headers=headers).text\n",
    "tree = etree.HTML(page_text)\n",
    "proxy_list = tree.xpath('//body//text()')\n",
    "http_proxy = [] #代理池\n",
    "for proxy in proxy_list:\n",
    "    dic = {\n",
    "        'http':proxy\n",
    "    }\n",
    "    http_proxy.append(dic)\n",
    "http_proxy"
   ]
  },
  {
   "cell_type": "markdown",
   "metadata": {},
   "source": [
    "- 对西祠代理发起一个高频的请求，让其将我本机ip禁掉"
   ]
  },
  {
   "cell_type": "code",
   "execution_count": 14,
   "metadata": {},
   "outputs": [
    {
     "ename": "AttributeError",
     "evalue": "'NoneType' object has no attribute 'xpath'",
     "output_type": "error",
     "traceback": [
      "\u001b[0;31m---------------------------------------------------------------------------\u001b[0m",
      "\u001b[0;31mAttributeError\u001b[0m                            Traceback (most recent call last)",
      "\u001b[0;32m<ipython-input-14-8c3f462976fd>\u001b[0m in \u001b[0;36m<module>\u001b[0;34m()\u001b[0m\n\u001b[1;32m      7\u001b[0m     \u001b[0mtree\u001b[0m \u001b[0;34m=\u001b[0m \u001b[0metree\u001b[0m\u001b[0;34m.\u001b[0m\u001b[0mHTML\u001b[0m\u001b[0;34m(\u001b[0m\u001b[0mpage_text\u001b[0m\u001b[0;34m)\u001b[0m\u001b[0;34m\u001b[0m\u001b[0m\n\u001b[1;32m      8\u001b[0m     \u001b[0;31m#在xpath表达式中不可以出现tbody标签\u001b[0m\u001b[0;34m\u001b[0m\u001b[0;34m\u001b[0m\u001b[0m\n\u001b[0;32m----> 9\u001b[0;31m     \u001b[0mtr_list\u001b[0m \u001b[0;34m=\u001b[0m \u001b[0mtree\u001b[0m\u001b[0;34m.\u001b[0m\u001b[0mxpath\u001b[0m\u001b[0;34m(\u001b[0m\u001b[0;34m'//*[@id=\"ip_list\"]//tr'\u001b[0m\u001b[0;34m)\u001b[0m\u001b[0;34m[\u001b[0m\u001b[0;36m1\u001b[0m\u001b[0;34m:\u001b[0m\u001b[0;34m]\u001b[0m\u001b[0;34m\u001b[0m\u001b[0m\n\u001b[0m\u001b[1;32m     10\u001b[0m     \u001b[0;32mfor\u001b[0m \u001b[0mtr\u001b[0m \u001b[0;32min\u001b[0m \u001b[0mtr_list\u001b[0m\u001b[0;34m:\u001b[0m\u001b[0;34m\u001b[0m\u001b[0m\n\u001b[1;32m     11\u001b[0m         \u001b[0mip\u001b[0m \u001b[0;34m=\u001b[0m \u001b[0mtr\u001b[0m\u001b[0;34m.\u001b[0m\u001b[0mxpath\u001b[0m\u001b[0;34m(\u001b[0m\u001b[0;34m'./td[2]/text()'\u001b[0m\u001b[0;34m)\u001b[0m\u001b[0;34m[\u001b[0m\u001b[0;36m0\u001b[0m\u001b[0;34m]\u001b[0m\u001b[0;34m\u001b[0m\u001b[0m\n",
      "\u001b[0;31mAttributeError\u001b[0m: 'NoneType' object has no attribute 'xpath'"
     ]
    }
   ],
   "source": [
    "#url模板\n",
    "url = 'https://www.xicidaili.com/nn/%d'\n",
    "ips = []\n",
    "for page in range(1,11):\n",
    "    new_url = format(url%page)\n",
    "    page_text = requests.get(url=new_url,headers=headers).text\n",
    "    tree = etree.HTML(page_text)\n",
    "    #在xpath表达式中不可以出现tbody标签\n",
    "    tr_list = tree.xpath('//*[@id=\"ip_list\"]//tr')[1:]\n",
    "    for tr in tr_list:\n",
    "        ip = tr.xpath('./td[2]/text()')[0]\n",
    "        ips.append(ip)\n",
    "print(len(ips))\n",
    "        "
   ]
  },
  {
   "cell_type": "markdown",
   "metadata": {},
   "source": [
    "- 使用代理机制破解ip被封的效果"
   ]
  },
  {
   "cell_type": "code",
   "execution_count": 16,
   "metadata": {},
   "outputs": [],
   "source": [
    "import random"
   ]
  },
  {
   "cell_type": "code",
   "execution_count": 20,
   "metadata": {},
   "outputs": [
    {
     "name": "stdout",
     "output_type": "stream",
     "text": [
      "1000\n"
     ]
    }
   ],
   "source": [
    "#代理池对应的代码\n",
    "url = 'http://ip.11jsq.com/index.php/api/entry?method=proxyServer.generate_api_url&packid=1&fa=0&fetch_key=&groupid=0&qty=29&time=1&pro=&city=&port=1&format=html&ss=5&css=&dt=1&specialTxt=3&specialJson=&usertype=2'\n",
    "page_text = requests.get(url,headers=headers).text\n",
    "tree = etree.HTML(page_text)\n",
    "proxy_list = tree.xpath('//body//text()')\n",
    "http_proxy = [] #代理池\n",
    "for proxy in proxy_list:\n",
    "    dic = {\n",
    "        'https':proxy\n",
    "    }\n",
    "    http_proxy.append(dic)\n",
    "\n",
    "#url模板\n",
    "url = 'https://www.xicidaili.com/nn/%d'\n",
    "ips = []\n",
    "for page in range(1,11):\n",
    "    new_url = format(url%page)\n",
    "    #让当次的请求使用代理机制，就可以更换请求的ip地址\n",
    "    page_text = requests.get(url=new_url,headers=headers,proxies=random.choice(http_proxy)).text\n",
    "    tree = etree.HTML(page_text)\n",
    "    #在xpath表达式中不可以出现tbody标签\n",
    "    tr_list = tree.xpath('//*[@id=\"ip_list\"]//tr')[1:]\n",
    "    for tr in tr_list:\n",
    "        ip = tr.xpath('./td[2]/text()')[0]\n",
    "        ips.append(ip)\n",
    "print(len(ips))\n",
    "        "
   ]
  },
  {
   "cell_type": "markdown",
   "metadata": {},
   "source": [
    "- 验证码的识别\n",
    "    - 基于线上的打码平台识别验证码\n",
    "    - 打码平台\n",
    "        - 1.超级鹰（使用）：http://www.chaojiying.com/about.html\n",
    "            - 1.注册【用户中心的身份】\n",
    "            - 2.登录（用户中心的身份）\n",
    "                - 1.查询余额，请充值\n",
    "                - 2.创建一个软件ID（899370）\n",
    "                - 3.下载示例代码\n",
    "        - 2.云打码\n",
    "        - 3.打码兔"
   ]
  },
  {
   "cell_type": "code",
   "execution_count": 21,
   "metadata": {},
   "outputs": [],
   "source": [
    "#!/usr/bin/env python\n",
    "# coding:utf-8\n",
    "\n",
    "import requests\n",
    "from hashlib import md5\n",
    "\n",
    "class Chaojiying_Client(object):\n",
    "\n",
    "    def __init__(self, username, password, soft_id):\n",
    "        self.username = username\n",
    "        password =  password.encode('utf8')\n",
    "        self.password = md5(password).hexdigest()\n",
    "        self.soft_id = soft_id\n",
    "        self.base_params = {\n",
    "            'user': self.username,\n",
    "            'pass2': self.password,\n",
    "            'softid': self.soft_id,\n",
    "        }\n",
    "        self.headers = {\n",
    "            'Connection': 'Keep-Alive',\n",
    "            'User-Agent': 'Mozilla/4.0 (compatible; MSIE 8.0; Windows NT 5.1; Trident/4.0)',\n",
    "        }\n",
    "\n",
    "    def PostPic(self, im, codetype):\n",
    "        \"\"\"\n",
    "        im: 图片字节\n",
    "        codetype: 题目类型 参考 http://www.chaojiying.com/price.html\n",
    "        \"\"\"\n",
    "        params = {\n",
    "            'codetype': codetype,\n",
    "        }\n",
    "        params.update(self.base_params)\n",
    "        files = {'userfile': ('ccc.jpg', im)}\n",
    "        r = requests.post('http://upload.chaojiying.net/Upload/Processing.php', data=params, files=files, headers=self.headers)\n",
    "        return r.json()\n",
    "\n",
    "    def ReportError(self, im_id):\n",
    "        \"\"\"\n",
    "        im_id:报错题目的图片ID\n",
    "        \"\"\"\n",
    "        params = {\n",
    "            'id': im_id,\n",
    "        }\n",
    "        params.update(self.base_params)\n",
    "        r = requests.post('http://upload.chaojiying.net/Upload/ReportError.php', data=params, headers=self.headers)\n",
    "        return r.json()\n"
   ]
  },
  {
   "cell_type": "code",
   "execution_count": 25,
   "metadata": {},
   "outputs": [],
   "source": [
    "def tranformImgCode(imgPath,imgType):\n",
    "    chaojiying = Chaojiying_Client('bobo328410948', 'bobo328410948', '899370')\n",
    "    im = open(imgPath, 'rb').read()\n",
    "    return chaojiying.PostPic(im,imgType)['pic_str']"
   ]
  },
  {
   "cell_type": "code",
   "execution_count": 26,
   "metadata": {},
   "outputs": [
    {
     "name": "stdout",
     "output_type": "stream",
     "text": [
      "7261\n"
     ]
    }
   ],
   "source": [
    "print(tranformImgCode('./a.jpg',1902))"
   ]
  },
  {
   "cell_type": "markdown",
   "metadata": {},
   "source": [
    "- 模拟登录\n",
    "    - 流程：\n",
    "        - 对点击登录按钮对应的请求进行发送（post请求）\n",
    "        - 处理请求参数：\n",
    "            - 用户名\n",
    "            - 密码\n",
    "            - 验证码\n",
    "            - 其他的防伪参数"
   ]
  },
  {
   "cell_type": "code",
   "execution_count": 27,
   "metadata": {},
   "outputs": [
    {
     "name": "stdout",
     "output_type": "stream",
     "text": [
      "m9vd\n"
     ]
    }
   ],
   "source": [
    "#识别验证码\n",
    "url = 'https://so.gushiwen.org/user/login.aspx?from=http://so.gushiwen.org/user/collect.aspx'\n",
    "page_text = requests.get(url=url,headers=headers).text\n",
    "#解析验证码图片的地址\n",
    "tree = etree.HTML(page_text)\n",
    "img_src = 'https://so.gushiwen.org'+tree.xpath('//*[@id=\"imgCode\"]/@src')[0]\n",
    "#将验证码图片保存到本地\n",
    "img_data = requests.get(img_src,headers=headers).content\n",
    "with open('./code.jpg','wb') as fp:\n",
    "    fp.write(img_data)\n",
    "    \n",
    "#识别验证码\n",
    "code_text = tranformImgCode('./code.jpg',1902)\n",
    "print(code_text)\n",
    "login_url ='https://so.gushiwen.org/user/login.aspx?from=http%3a%2f%2fso.gushiwen.org%2fuser%2fcollect.aspx'\n",
    "data = {\n",
    "    '__VIEWSTATE': '4iQUDYGYp480//d8dSe+k037Ut9ijESlrJJLPgCEsA+C4EAmEQV4h+p/G4sKwsGz2mFdGeIE+TS8T6Gru2w14b4n2qfsxdeB4caV4zXWhLNTbDM9m/heuikk8S4=',\n",
    "    '__VIEWSTATEGENERATOR': 'C93BE1AE',\n",
    "    'from': 'http://so.gushiwen.org/user/collect.aspx',\n",
    "    'email': 'www.zhangbowudi@qq.com',\n",
    "    'pwd': 'bobo328410948',\n",
    "    'code': code_text,#动态变化\n",
    "    'denglu': '登录',\n",
    "}\n",
    "#对点击登录按钮发起请求:获取了登录成功后对应的页面源码数据\n",
    "page_text_login = requests.post(url=login_url,headers=headers,data=data).text\n",
    "with open('./gushiwen.html','w',encoding='utf-8') as fp:\n",
    "    fp.write(page_text_login)"
   ]
  },
  {
   "cell_type": "markdown",
   "metadata": {},
   "source": [
    "- 模拟登录失败了\n",
    "- 原因：\n",
    "    - cookie\n",
    "    - 不可能是验证码的问题"
   ]
  },
  {
   "cell_type": "markdown",
   "metadata": {},
   "source": [
    "- 携带cookie进行模拟登录"
   ]
  },
  {
   "cell_type": "code",
   "execution_count": 28,
   "metadata": {},
   "outputs": [
    {
     "name": "stdout",
     "output_type": "stream",
     "text": [
      "scvq\n"
     ]
    }
   ],
   "source": [
    "session = requests.Session()\n",
    "\n",
    "#识别验证码\n",
    "url = 'https://so.gushiwen.org/user/login.aspx?from=http://so.gushiwen.org/user/collect.aspx'\n",
    "page_text = session.get(url=url,headers=headers).text\n",
    "#解析验证码图片的地址\n",
    "tree = etree.HTML(page_text)\n",
    "img_src = 'https://so.gushiwen.org'+tree.xpath('//*[@id=\"imgCode\"]/@src')[0]\n",
    "#将验证码图片保存到本地\n",
    "img_data = session.get(img_src,headers=headers).content\n",
    "with open('./code.jpg','wb') as fp:\n",
    "    fp.write(img_data)\n",
    "    \n",
    "#识别验证码\n",
    "code_text = tranformImgCode('./code.jpg',1902)\n",
    "print(code_text)\n",
    "login_url ='https://so.gushiwen.org/user/login.aspx?from=http%3a%2f%2fso.gushiwen.org%2fuser%2fcollect.aspx'\n",
    "data = {\n",
    "    '__VIEWSTATE': '4iQUDYGYp480//d8dSe+k037Ut9ijESlrJJLPgCEsA+C4EAmEQV4h+p/G4sKwsGz2mFdGeIE+TS8T6Gru2w14b4n2qfsxdeB4caV4zXWhLNTbDM9m/heuikk8S4=',\n",
    "    '__VIEWSTATEGENERATOR': 'C93BE1AE',\n",
    "    'from': 'http://so.gushiwen.org/user/collect.aspx',\n",
    "    'email': 'www.zhangbowudi@qq.com',\n",
    "    'pwd': 'bobo328410948',\n",
    "    'code': code_text,#动态变化\n",
    "    'denglu': '登录',\n",
    "}\n",
    "#对点击登录按钮发起请求:获取了登录成功后对应的页面源码数据\n",
    "page_text_login = session.post(url=login_url,headers=headers,data=data).text\n",
    "with open('./gushiwen.html','w',encoding='utf-8') as fp:\n",
    "    fp.write(page_text_login)"
   ]
  },
  {
   "cell_type": "markdown",
   "metadata": {},
   "source": [
    "- 在请求参数中如果看到了一组乱序的请求参数，最好去验证码这组请求参数是否为动态变化。\n",
    "- 处理：\n",
    "    - 方式1：常规来讲一半动态变化的请求参数会被隐藏在前台页面中，那么我们就要去前台页面源码中取找。\n",
    "    - 方式2：如果前台页面没有的话，我们就可以基于抓包工具进行全局搜索。"
   ]
  },
  {
   "cell_type": "markdown",
   "metadata": {},
   "source": [
    "- 基于百度AI实现的爬虫功能\n",
    "    - 图像识别\n",
    "    - 语音识别&合成\n",
    "    - 自然语言处理\n",
    "    \n",
    "- 使用流程：\n",
    "    - 点击控制台进行登录\n",
    "    - 选择想要实现的功能\n",
    "    - 实现功能下创建一个app\n",
    "    - 选择对应的pythonSDK文档进行代码实现"
   ]
  },
  {
   "cell_type": "markdown",
   "metadata": {},
   "source": [
    "- 需求：https://duanziwang.com/\n",
    "    - 将段子王中的段子内容爬取到本地，然后基于语音合成将段子合成为mp3的音频文件，然后自己搭建一个web服务器，线上实时播放音频文件。"
   ]
  },
  {
   "cell_type": "markdown",
   "metadata": {},
   "source": [
    "- 爬取梨视频中的短视频数据：\n",
    "- url：https://www.pearvideo.com/category_1\n",
    "- 将最热板块下的短视频数据进行爬取且存储到本地。"
   ]
  },
  {
   "cell_type": "markdown",
   "metadata": {},
   "source": [
    "- 预习：协程，基于asyncio模块。基于单线程+多任务的异步协程实现的异步爬虫。"
   ]
  },
  {
   "cell_type": "code",
   "execution_count": null,
   "metadata": {},
   "outputs": [],
   "source": []
  }
 ],
 "metadata": {
  "kernelspec": {
   "display_name": "Python 3",
   "language": "python",
   "name": "python3"
  },
  "language_info": {
   "codemirror_mode": {
    "name": "ipython",
    "version": 3
   },
   "file_extension": ".py",
   "mimetype": "text/x-python",
   "name": "python",
   "nbconvert_exporter": "python",
   "pygments_lexer": "ipython3",
   "version": "3.6.5"
  }
 },
 "nbformat": 4,
 "nbformat_minor": 2
}
